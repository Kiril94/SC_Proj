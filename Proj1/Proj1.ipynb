{
 "cells": [
  {
   "cell_type": "code",
   "execution_count": 2,
   "metadata": {},
   "outputs": [],
   "source": [
    "import numpy as np\n",
    "import numpy.linalg as la\n",
    "from watermatrices import Amat, Bmat, yvec\n",
    "import seaborn as sns"
   ]
  },
  {
   "cell_type": "markdown",
   "metadata": {},
   "source": [
    "# a)"
   ]
  },
  {
   "cell_type": "code",
   "execution_count": 3,
   "metadata": {},
   "outputs": [],
   "source": [
    "def inf_norm(M): \n",
    "    \"\"\"Computes the max norm of a matrix M\"\"\"\n",
    "    return np.max(np.sum(np.abs(M),axis = 1))\n",
    "def condition(M): \n",
    "    \"\"\"Returns condition number of a matrix M\"\"\"\n",
    "    return inf_norm(M)*inf_norm(np.linalg.inv(M))"
   ]
  },
  {
   "cell_type": "code",
   "execution_count": 4,
   "metadata": {},
   "outputs": [],
   "source": [
    "#the frequencies are given by\n",
    "omega = np.array([0.800, 1.146, 1.400])\n",
    "#Write matrices E and S\n",
    "n = np.shape(Amat)[0]\n",
    "I = np.identity(n)\n",
    "Zmat = np.zeros((n,n))\n",
    "E = np.block([[Amat,Bmat],[Bmat,Amat]])\n",
    "S = np.block([[I,Zmat],[Zmat,-I]])\n",
    "z = np.concatenate((yvec,-yvec))\n",
    "CondK = np.empty(shape=(3,)) #array to store solution\n",
    "#Compute the condition number of E-\\omega*S for 3 different frequencies\n",
    "#and store it in Kmat\n",
    "Kmat = np.empty(shape=(3,*np.shape(E)))\n",
    "for i in range(3):\n",
    "    Kmat[i] = E-omega[i]*S\n",
    "    CondK[i] = condition(Kmat[i])"
   ]
  },
  {
   "cell_type": "markdown",
   "metadata": {},
   "source": [
    "## How many digits of the 8 digit solution can we trust"
   ]
  },
  {
   "cell_type": "markdown",
   "metadata": {},
   "source": [
    "# b)"
   ]
  },
  {
   "cell_type": "code",
   "execution_count": 5,
   "metadata": {},
   "outputs": [],
   "source": [
    "dw = 1/2*1e-3\n",
    "Bound = np.empty(shape=(3,))\n",
    "for i in range(3):\n",
    "    Bound[i] = CondK[i]*inf_norm(dw*S)/inf_norm(Kmat[i])"
   ]
  },
  {
   "cell_type": "markdown",
   "metadata": {},
   "source": [
    "# c)"
   ]
  },
  {
   "cell_type": "markdown",
   "metadata": {},
   "source": [
    "## 1."
   ]
  },
  {
   "cell_type": "code",
   "execution_count": 6,
   "metadata": {},
   "outputs": [],
   "source": [
    "def lu_factorize(A):\n",
    "    \"\"\"Performs matrix decomposition A=LU where L is lower triangular and \n",
    "    U is upper triangular. Returns L and U.\"\"\"\n",
    "    n = A.shape[0]\n",
    "    U = np.zeros((n, n), dtype=np.double)\n",
    "    L = np.eye(n, dtype=np.double)\n",
    "    for k in range(n):\n",
    "        U[k, k:] = A[k, k:] - L[k,:k].dot(U[:k,k:])\n",
    "        L[(k+1):,k] = (A[(k+1):,k] - L[(k+1):,:].dot(U[:,k]))/ U[k, k]\n",
    "    return L, U"
   ]
  },
  {
   "cell_type": "markdown",
   "metadata": {},
   "source": [
    "## 2."
   ]
  },
  {
   "cell_type": "code",
   "execution_count": 7,
   "metadata": {},
   "outputs": [],
   "source": [
    "def forward_substitute(L,z):\n",
    "    \"\"\"Takes lower triangular matrix L and vector z and return y, such that\n",
    "    Ly=z.\"\"\"\n",
    "    y = np.zeros((len(z),))\n",
    "    y[0] = z[0]\n",
    "    for i in np.arange(1,len(y)):\n",
    "        y[i] = z[i]-L[i,:].dot(y) \n",
    "    return y"
   ]
  },
  {
   "cell_type": "markdown",
   "metadata": {},
   "source": [
    "## 3. "
   ]
  },
  {
   "cell_type": "code",
   "execution_count": 8,
   "metadata": {},
   "outputs": [],
   "source": [
    "def back_substitute(U,y):\n",
    "    \"\"\"\"Takes upper triangular matrix U and vector y and performs back substitution \n",
    "    returning x, such that Ux = y.\"\"\"\n",
    "    n = len(y)\n",
    "    x = np.zeros((n,))\n",
    "    for i in np.arange(n-1,-1,-1):\n",
    "        x[i] = (y[i]-U[i,:].dot(x))/U[i,i]\n",
    "    return x"
   ]
  },
  {
   "cell_type": "code",
   "execution_count": 9,
   "metadata": {},
   "outputs": [],
   "source": [
    "def solve_linear(A,b):\n",
    "    L,U = lu_factorize(A)\n",
    "    y = forward_substitute(L,b)\n",
    "    x = back_substitute(U,y)\n",
    "    return x"
   ]
  },
  {
   "cell_type": "code",
   "execution_count": 10,
   "metadata": {},
   "outputs": [
    {
     "data": {
      "text/plain": [
       "array([-3.10862447e-15,  4.44089210e-15,  1.77635684e-15])"
      ]
     },
     "execution_count": 10,
     "metadata": {},
     "output_type": "execute_result"
    }
   ],
   "source": [
    "TM = np.array([[2,1,1],[4,1,4],[-6,-5,3]])\n",
    "b = np.array([4,11,4])\n",
    "x_custom = solve_linear(TM,b)\n",
    "x_np = la.solve(TM,b)\n",
    "x_custom-x_np"
   ]
  },
  {
   "cell_type": "markdown",
   "metadata": {},
   "source": [
    "## d. "
   ]
  },
  {
   "cell_type": "code",
   "execution_count": 19,
   "metadata": {},
   "outputs": [],
   "source": [
    "def solve_alpha(omega):\n",
    "    x = solve_linear(E-omega*S,z)\n",
    "    return z,z@x,x"
   ]
  },
  {
   "cell_type": "code",
   "execution_count": 12,
   "metadata": {},
   "outputs": [],
   "source": [
    "alpha = np.empty(shape=(3))\n",
    "for i in range(3):\n",
    "    alpha[i] = solve_alpha(omega[i])"
   ]
  },
  {
   "cell_type": "markdown",
   "metadata": {},
   "source": [
    "### (1) "
   ]
  },
  {
   "cell_type": "markdown",
   "metadata": {},
   "source": [
    "|$\\omega$|$\\alpha$|\n",
    "|--------|--------|\n",
    "|0.800|$1.636\\pm0.005$|\n",
    "|1.146|$2609.2\\pm2.5$|\n",
    "|1.400|$-2.708\\pm0.004$|"
   ]
  },
  {
   "cell_type": "markdown",
   "metadata": {},
   "source": [
    "## e "
   ]
  },
  {
   "cell_type": "code",
   "execution_count": 16,
   "metadata": {},
   "outputs": [],
   "source": [
    "omega_vec = np.linspace(1.2,4,1000)\n",
    "alpha_vec = np.empty(shape=(omega_vec.shape[0]))\n",
    "for i in range(len(omega_vec)):\n",
    "    alpha_vec[i] = solve_alpha(omega_vec[i])\n",
    "alpha_sing = solve_alpha(1.60686978)"
   ]
  },
  {
   "cell_type": "code",
   "execution_count": 14,
   "metadata": {},
   "outputs": [
    {
     "data": {
      "text/plain": [
       "<AxesSubplot:>"
      ]
     },
     "execution_count": 14,
     "metadata": {},
     "output_type": "execute_result"
    },
    {
     "data": {
      "image/png": "[encoded data removed]",
      "text/plain": [
       "<Figure size 432x288 with 1 Axes>"
      ]
     },
     "metadata": {
      "needs_background": "light"
     },
     "output_type": "display_data"
    }
   ],
   "source": [
    "sns.lineplot(omega_vec, alpha_vec)"
   ]
  }
 ],
 "metadata": {
  "kernelspec": {
   "display_name": "Python 3",
   "language": "python",
   "name": "python3"
  },
  "language_info": {
   "codemirror_mode": {
    "name": "ipython",
    "version": 3
   },
   "file_extension": ".py",
   "mimetype": "text/x-python",
   "name": "python",
   "nbconvert_exporter": "python",
   "pygments_lexer": "ipython3",
   "version": "3.6.10"
  }
 },
 "nbformat": 4,
 "nbformat_minor": 4
}
