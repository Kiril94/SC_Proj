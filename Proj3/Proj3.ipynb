{
 "cells": [
  {
   "cell_type": "code",
   "execution_count": 8,
   "metadata": {},
   "outputs": [],
   "source": [
    "import numpy as np\n",
    "from numpy import newaxis as NA\n",
    "import numpy.linalg as la\n",
    "import matplotlib.pyplot as plt"
   ]
  },
  {
   "cell_type": "markdown",
   "metadata": {},
   "source": [
    "# Solving nonlinear eq. in 1D"
   ]
  },
  {
   "cell_type": "markdown",
   "metadata": {},
   "source": [
    "# a. Lennard Jones Energy "
   ]
  },
  {
   "cell_type": "code",
   "execution_count": 9,
   "metadata": {},
   "outputs": [],
   "source": [
    "sigma, epsilon = 3.401, 0.997"
   ]
  },
  {
   "cell_type": "code",
   "execution_count": 7,
   "metadata": {},
   "outputs": [],
   "source": [
    "def distance(points):\n",
    "    \"\"\"Calculates Euclidean distanve between N points. Points is an Nx3 array.\"\"\"\n",
    "    displacement = points[:,NA]-points[NA,:] #(N,N,3) displacement vector\n",
    "    return np.sqrt( np.sum(displacement*displacement , axis=-1) )"
   ]
  },
  {
   "cell_type": "code",
   "execution_count": 10,
   "metadata": {},
   "outputs": [],
   "source": [
    "def div_0(a,b):\n",
    "    \"\"\"Divides a by b. If b==0 returns 0.\"\"\"\n",
    "    return np.divide(a, b, out=np.zeros_like(b), where=b!=0)"
   ]
  },
  {
   "cell_type": "code",
   "execution_count": 11,
   "metadata": {},
   "outputs": [],
   "source": [
    "def LJ(sigma, epsilon):\n",
    "    \"\"\"Creates the function V which computes the LJ potential with specified\\\n",
    "    sigma and epsilon.\"\"\"\n",
    "    def V(points):\n",
    "        \"\"\"Returns the Energy of N particle system given coordinates (Nx3) in the\\\n",
    "        Lennard Jones potential.\"\"\"\n",
    "        r = distance(points)\n",
    "        N = len(r)\n",
    "        #take only upper triangular part of the matrix since dist(ij)=dist(ji)\n",
    "        r = np.triu(r)\n",
    "        return np.sum(4*epsilon*((div_0(sigma,r))**12-(div_0(sigma,r))**6))\n",
    "    return V"
   ]
  },
  {
   "cell_type": "code",
   "execution_count": 94,
   "metadata": {},
   "outputs": [],
   "source": [
    "N, dim, n_atoms = 200, 3, 4\n",
    "range0 = np.linspace(3,11,N)\n",
    "Points = np.zeros((N,n_atoms,dim))\n",
    "Points[:,0,0] = range0\n",
    "Points[:,2,0] = 14\n",
    "Points[:,3,[0,1]] = [7,3.2]\n",
    "E2, E4 = np.empty(shape = N), np.empty(shape = N)\n",
    "V = LJ(sigma, epsilon)\n",
    "for i in range(N): #Computing LJ energy for N coordinates\n",
    "    E2[i] = V(Points[i,:2,:])\n",
    "    E4[i] = V(Points[i,:,:])"
   ]
  },
  {
   "cell_type": "code",
   "execution_count": 89,
   "metadata": {},
   "outputs": [
    {
     "data": {
      "image/png": "[encoded data removed]",
      "text/plain": [
       "<Figure size 648x360 with 1 Axes>"
      ]
     },
     "metadata": {
      "needs_background": "light"
     },
     "output_type": "display_data"
    }
   ],
   "source": [
    "fig, ax = plt.subplots(figsize = (9,5))\n",
    "ax.plot(range0, E2, label = '2 atoms'), ax.plot(range0, E4, label = '4 atoms')\n",
    "ax.set_ylabel('E [kJ/mol]', fontsize = 15), ax.legend(fontsize = 15)\n",
    "ax.set_xlabel(r'distance [Angstrom]', fontsize = 15)\n",
    "ax.set_title(r'Lennard Jones Potential', fontsize = 15)\n",
    "plt.show()"
   ]
  },
  {
   "cell_type": "markdown",
   "metadata": {},
   "source": [
    "# b. Bisection Method"
   ]
  },
  {
   "cell_type": "code",
   "execution_count": 95,
   "metadata": {},
   "outputs": [],
   "source": [
    "def bis(f,a,b,tol):\n",
    "    \"\"\"Bisection method for finding roots of a funciton f given an interval [a,b]\\\n",
    "    where sign(f(a))!=sign(f(b)). The function returns the root within the given tolerance \n",
    "    and the number of function calls.\"\"\"\n",
    "    n_calls = int(np.log2((b-a)/tol))\n",
    "    x = (a+b)/2\n",
    "    fb = f(b)\n",
    "    fa = f(a)\n",
    "    for i in range(n_calls):\n",
    "        fx = f(x)\n",
    "        if np.sign(fx)==np.sign(fa):\n",
    "            a = x\n",
    "        else:\n",
    "            b = x\n",
    "        x = (a+b)/2\n",
    "    return x, n_calls"
   ]
  },
  {
   "cell_type": "code",
   "execution_count": 96,
   "metadata": {},
   "outputs": [
    {
     "data": {
      "text/plain": [
       "(3.4010000000000105, 45, -7.438316629304609e-14)"
      ]
     },
     "execution_count": 96,
     "metadata": {},
     "output_type": "execute_result"
    }
   ],
   "source": [
    "def Vx(x):\n",
    "    \"\"\"Helper function to call V with a range of different x in the 1d case.\"\"\"\n",
    "    p0 = np.zeros((1,3))\n",
    "    p1 = np.reshape(np.array([0,0,x]), (1,3))\n",
    "    return V(np.concatenate((p0,p1),axis = 0))\n",
    "\n",
    "x_root,n = bis(Vx,2,6,1e-13)\n",
    "x_root, n, Vx(x_root)"
   ]
  },
  {
   "cell_type": "markdown",
   "metadata": {},
   "source": [
    "45 function calls are necessary "
   ]
  },
  {
   "cell_type": "markdown",
   "metadata": {},
   "source": [
    "# c. Newton Raphson method"
   ]
  },
  {
   "cell_type": "code",
   "execution_count": 97,
   "metadata": {},
   "outputs": [],
   "source": [
    "def DV(r,sigma = sigma, epsilon = epsilon):\n",
    "    \"\"\"Derivative of the LJ potential.\"\"\"\n",
    "    return 4*epsilon*(6*sigma**6/r**7 - 12*sigma**12/r**13)"
   ]
  },
  {
   "cell_type": "code",
   "execution_count": 98,
   "metadata": {},
   "outputs": [
    {
     "data": {
      "text/plain": [
       "(3.400999999999998, 24)"
      ]
     },
     "execution_count": 98,
     "metadata": {},
     "output_type": "execute_result"
    }
   ],
   "source": [
    "def newton_root(f, df, x0, tolerance, max_iterations):\n",
    "    \"\"\"Newton-Rhapson method to find root of a function f. Returns root within tolerance\\\n",
    "    and number of function calls.\"\"\"\n",
    "    f0 = f(x0)\n",
    "    n_calls = 0\n",
    "    while (abs(f0)>tolerance) and (n_calls<max_iterations):\n",
    "        n_calls+=1\n",
    "        x0 = x0-f0/df(x0)\n",
    "        f0 = f(x0)\n",
    "    return x0, 2*n_calls\n",
    "\n",
    "newton_root(Vx, DV, 2, 1e-12,100)"
   ]
  },
  {
   "cell_type": "markdown",
   "metadata": {},
   "source": [
    "24 function calls are needed "
   ]
  },
  {
   "cell_type": "markdown",
   "metadata": {},
   "source": [
    "# d. Combination of NR and bisection method "
   ]
  },
  {
   "cell_type": "code",
   "execution_count": 99,
   "metadata": {},
   "outputs": [
    {
     "data": {
      "text/plain": [
       "(3.400999999999998, 24)"
      ]
     },
     "execution_count": 99,
     "metadata": {},
     "output_type": "execute_result"
    }
   ],
   "source": [
    "def NR_bis(f, df, a, b, x0, tolerance):\n",
    "    \"\"\"Combination of Newton Rhapson and bisection which guarantees convergence.\"\"\"\n",
    "    f0 = f(x0)\n",
    "    n_calls = 0\n",
    "    while abs(f0)>tolerance:\n",
    "        n_calls += 1\n",
    "        xn = x0-f0/df(x0) #if new point is outside of (a,b) execute bisection\n",
    "        if ((xn<a) or (xn>b)):\n",
    "            n_calls+=2\n",
    "            fa = f(a)\n",
    "            x0 = (a+b)/2\n",
    "            f0 = f(x0)\n",
    "            if np.sign(f0)==np.sign(fa):\n",
    "                a = x0\n",
    "            else:\n",
    "                b = x0\n",
    "        else:\n",
    "            x0 = xn\n",
    "            n_calls += 1\n",
    "            f0 = f(x0)\n",
    "    return x0, n_calls\n",
    "\n",
    "NR_bis(Vx, DV, 2, 4, 2, 1e-13)"
   ]
  },
  {
   "cell_type": "markdown",
   "metadata": {},
   "source": [
    "24 function calls were needed "
   ]
  },
  {
   "cell_type": "markdown",
   "metadata": {},
   "source": [
    "# Solving Nonlinear equations in N dimensions"
   ]
  },
  {
   "cell_type": "markdown",
   "metadata": {},
   "source": [
    "# e. "
   ]
  },
  {
   "cell_type": "code",
   "execution_count": 100,
   "metadata": {},
   "outputs": [],
   "source": [
    "def LJgradient(sigma, epsilon):\n",
    "        \"\"\"Returns function gradV(X) with given sigma and epsilon.\"\"\"\n",
    "        def gradV(X):\n",
    "            \"\"\"Given an the coordinates of N points in an (N,3) array returns the gradient\\\n",
    "            in the 3N dimensional space.\"\"\"\n",
    "            d = X[:,NA]-X[NA,:] #(N,N,3) displacement vector\n",
    "            r = np.sqrt(np.sum(d*d , axis=-1)) #(N,N) distances\n",
    "            np.fill_diagonal(r,1)\n",
    "            T = 6*sigma**6/(r**7) - 12*sigma**12/(r**13) # (N,N) derivatives matrix\n",
    "            u = d/r[:,:,NA] #u is (N,N,3) array of unit vectors in dir Xi-Xj\n",
    "            return 4*epsilon*np.sum(T[:,:,NA]*u, axis = 1)\n",
    "        return gradV"
   ]
  },
  {
   "cell_type": "code",
   "execution_count": 101,
   "metadata": {},
   "outputs": [],
   "source": [
    "def gradVx(x):\n",
    "    \"\"\"Helper function to call V with a range of different x in the 1d case.\"\"\"\n",
    "    p0 = np.zeros((1,3))\n",
    "    p1 = np.reshape(np.array([0,0,x]), (1,3))\n",
    "    return gradV(np.concatenate((p0,p1),axis = 0))\n",
    "range1 = np.linspace(3,10,N)"
   ]
  },
  {
   "cell_type": "code",
   "execution_count": 106,
   "metadata": {},
   "outputs": [],
   "source": [
    "gradV = LJgradient(sigma,epsilon)\n",
    "gradient = np.empty(shape = (num_points,2,dim))\n",
    "for i in range(N):\n",
    "    gradient[i] = gradVx(range1[i])"
   ]
  },
  {
   "cell_type": "code",
   "execution_count": 109,
   "metadata": {},
   "outputs": [
    {
     "data": {
      "image/png": "[encoded data removed]",
      "text/plain": [
       "<Figure size 648x360 with 1 Axes>"
      ]
     },
     "metadata": {
      "needs_background": "light"
     },
     "output_type": "display_data"
    }
   ],
   "source": [
    "fig, ax = plt.subplots(figsize = (9,5))\n",
    "ax.plot(range0,E2 , label = '2 atoms')\n",
    "ax.plot(range1,gradient[:,0,-1], label = 'gradient')\n",
    "ax.set_ylabel('E [kJ/mol]', fontsize = 15), ax.legend(fontsize = 15)\n",
    "ax.set_xlabel(r'distance [Angstrom]$', fontsize = 15)\n",
    "ax.set_title(r'Lennard Jones Potential', fontsize = 15)\n",
    "plt.show()"
   ]
  }
 ],
 "metadata": {
  "kernelspec": {
   "display_name": "Python 3",
   "language": "python",
   "name": "python3"
  },
  "language_info": {
   "codemirror_mode": {
    "name": "ipython",
    "version": 3
   },
   "file_extension": ".py",
   "mimetype": "text/x-python",
   "name": "python",
   "nbconvert_exporter": "python",
   "pygments_lexer": "ipython3",
   "version": "3.6.10"
  }
 },
 "nbformat": 4,
 "nbformat_minor": 4
}
