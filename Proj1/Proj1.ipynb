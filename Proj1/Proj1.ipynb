{
 "cells": [
  {
   "cell_type": "code",
   "execution_count": 2,
   "metadata": {},
   "outputs": [],
   "source": [
    "import numpy as np\n",
    "from watermatrices import Amat, Bmat, yvec"
   ]
  },
  {
   "cell_type": "markdown",
   "metadata": {},
   "source": [
    "# a)"
   ]
  },
  {
   "cell_type": "code",
   "execution_count": 3,
   "metadata": {},
   "outputs": [],
   "source": [
    "def inf_norm(M): \n",
    "    \"\"\"Computes the max norm of a matrix M\"\"\"\n",
    "    return np.max(np.sum(np.abs(M),axis = 1))\n",
    "def condition(M): \n",
    "    \"\"\"Returns condition number of a matrix M\"\"\"\n",
    "    return inf_norm(M)*inf_norm(np.linalg.inv(M))"
   ]
  },
  {
   "cell_type": "code",
   "execution_count": 9,
   "metadata": {},
   "outputs": [
    {
     "data": {
      "text/plain": [
       "3.108624468950438e-16"
      ]
     },
     "execution_count": 9,
     "metadata": {},
     "output_type": "execute_result"
    }
   ],
   "source": [
    "#the frequencies are given by\n",
    "omega = np.array([0.800, 1.146, 1.400])\n",
    "#Write matrices E and S\n",
    "n = np.shape(Amat)[0]\n",
    "I = np.identity(n)\n",
    "Zmat = np.zeros((n,n))\n",
    "E = np.block([[Amat,Bmat],[Bmat,Amat]])\n",
    "S = np.block([[I,Zmat],[Zmat,-I]])\n",
    "CondK = np.empty(shape=(3,)) #array to store solution\n",
    "#Compute the condition number of E-\\omega*S for 3 different frequencies\n",
    "#and store it in Kmat\n",
    "Kmat = np.empty(shape=(3,*np.shape(E)))\n",
    "for i in range(3):\n",
    "    Kmat[i] = E-omega[i]*S\n",
    "    CondK[i] = condition(Kmat[i])\n",
    "np.finfo(Solution.dtype).eps*Solution[2]"
   ]
  },
  {
   "cell_type": "markdown",
   "metadata": {},
   "source": [
    "## How many digits of the 8 digit solution can we trust"
   ]
  },
  {
   "cell_type": "markdown",
   "metadata": {},
   "source": [
    "# b)"
   ]
  },
  {
   "cell_type": "code",
   "execution_count": 10,
   "metadata": {},
   "outputs": [],
   "source": [
    "dw = 1/2*1e-3\n",
    "Bound = np.empty(shape=(3,))\n",
    "for i in range(3):\n",
    "    Bound[i] = Solution[i]*inf_norm(dw*S)/inf_norm(Kmat[i])"
   ]
  },
  {
   "cell_type": "markdown",
   "metadata": {},
   "source": [
    "# c)"
   ]
  },
  {
   "cell_type": "code",
   "execution_count": 31,
   "metadata": {},
   "outputs": [],
   "source": [
    "def lu_factorize(A): \n",
    "    n = np.shape(A)[0]\n",
    "    for c in range(n-1):\n",
    "        M = np.empty(shape = np.shape(A))\n",
    "        if A[c,c]==0:\n",
    "            break\n",
    "        else:\n",
    "            for i in np.arange(c,n):\n",
    "                M[i,c] = A[i,c]/A[c,c]\n",
    "        for j in np.arange(c, n):\n",
    "            for i in np.arange(c,n):\n",
    "                A[i,j] = A[i,j] - M[i,c]*A[c,j]\n",
    "    return A"
   ]
  },
  {
   "cell_type": "code",
   "execution_count": 33,
   "metadata": {},
   "outputs": [
    {
     "data": {
      "text/plain": [
       "array([[ 0.        ,  0.        ,  0.        ,  0.        ],\n",
       "       [ 0.16279204,  0.        ,  0.        ,  0.        ],\n",
       "       [ 0.02353879,  0.02191543,  0.        ,  0.        ],\n",
       "       [ 0.0250788 , -0.06341569, -0.01788177,  0.        ]])"
      ]
     },
     "execution_count": 33,
     "metadata": {},
     "output_type": "execute_result"
    }
   ],
   "source": [
    "L = lu_factorize(Amat[:4,:4])\n",
    "L"
   ]
  },
  {
   "cell_type": "code",
   "execution_count": 34,
   "metadata": {},
   "outputs": [
    {
     "data": {
      "text/plain": [
       "array([[ 0.        ,  0.        ,  0.        ,  0.        ,  0.        ,\n",
       "         0.        ,  0.        ],\n",
       "       [ 0.16279204,  0.        ,  0.        ,  0.        ,  0.        ,\n",
       "         0.        ,  0.        ],\n",
       "       [ 0.02353879,  0.02191543,  0.        ,  0.        ,  0.        ,\n",
       "         0.        ,  0.        ],\n",
       "       [ 0.0250788 , -0.06341569, -0.01788177,  0.        ,  0.        ,\n",
       "         0.        ,  0.        ],\n",
       "       [-0.02243145,  0.0219201 ,  0.07075279, -0.07751218,  0.        ,\n",
       "         0.        ,  0.        ],\n",
       "       [-0.02951967,  0.0328402 ,  0.03659182,  0.00541094,  0.10958126,\n",
       "         0.        ,  0.        ],\n",
       "       [-0.02401863,  0.03014052,  0.06105488, -0.10660903,  0.12061597,\n",
       "         0.06673979,  1.15733569]])"
      ]
     },
     "execution_count": 34,
     "metadata": {},
     "output_type": "execute_result"
    }
   ],
   "source": [
    "Amat"
   ]
  }
 ],
 "metadata": {
  "kernelspec": {
   "display_name": "Python 3",
   "language": "python",
   "name": "python3"
  },
  "language_info": {
   "codemirror_mode": {
    "name": "ipython",
    "version": 3
   },
   "file_extension": ".py",
   "mimetype": "text/x-python",
   "name": "python",
   "nbconvert_exporter": "python",
   "pygments_lexer": "ipython3",
   "version": "3.6.10"
  }
 },
 "nbformat": 4,
 "nbformat_minor": 4
}
