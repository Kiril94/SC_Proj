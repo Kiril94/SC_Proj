{
 "cells": [
  {
   "cell_type": "markdown",
   "metadata": {},
   "source": [
    "# $\\large{\\text{SC Project 1}}$ "
   ]
  },
  {
   "cell_type": "code",
   "execution_count": 33,
   "metadata": {},
   "outputs": [],
   "source": [
    "import numpy as np\n",
    "import numpy.linalg as la\n",
    "from watermatrices import Amat, Bmat, yvec\n",
    "import seaborn as sns\n",
    "from numpy import newaxis as na\n",
    "import matplotlib.pyplot as plt"
   ]
  },
  {
   "cell_type": "markdown",
   "metadata": {},
   "source": [
    "# 3) Week 1 Questions"
   ]
  },
  {
   "cell_type": "markdown",
   "metadata": {},
   "source": [
    "## a) Computing the condition number\n",
    "$\\mathrm{cond_{\\infty}(M) = ||M||_\\infty||M^{-1}||_\\infty}$"
   ]
  },
  {
   "cell_type": "code",
   "execution_count": 34,
   "metadata": {},
   "outputs": [],
   "source": [
    "def inf_norm(M): \n",
    "    \"\"\"Computes the max norm of a matrix M.\"\"\"\n",
    "    return np.max(np.sum(np.abs(M),axis = 1))\n",
    "def condition(M): \n",
    "    \"\"\"Returns condition number of a matrix M.\"\"\"\n",
    "    return inf_norm(M)*inf_norm(np.linalg.inv(M))"
   ]
  },
  {
   "cell_type": "markdown",
   "metadata": {},
   "source": [
    "Implement matrices E, S and vector z "
   ]
  },
  {
   "cell_type": "code",
   "execution_count": 35,
   "metadata": {},
   "outputs": [
    {
     "name": "stdout",
     "output_type": "stream",
     "text": [
      "Condition numbers: [   327.81670424 152679.26875234    227.19443667],\n",
      "Number of lost digits: [2.51563108 5.18378007 2.35639769]\n"
     ]
    }
   ],
   "source": [
    "omega = np.array([0.800, 1.146, 1.400])\n",
    "n = np.shape(Amat)[0]\n",
    "I = np.identity(n)\n",
    "E = np.block([[Amat,Bmat],[Bmat,Amat]])\n",
    "S = np.block([[I,np.zeros((n,n))],[np.zeros((n,n)),-I]])\n",
    "z = np.concatenate((yvec,-yvec))\n",
    "CondM = np.empty(shape=(3,)) \n",
    "M = np.empty(shape=(3,*np.shape(E)))\n",
    "for i in range(3):\n",
    "    M[i] = E-omega[i]*S #store resulting matrix for different \\omega\n",
    "    CondM[i] = condition(M[i]) \n",
    "print(\"Condition numbers: {},\\nNumber of lost digits: {}\".format(CondM, np.log10(CondM))) #condition number for the given frequencies"
   ]
  },
  {
   "cell_type": "markdown",
   "metadata": {},
   "source": [
    "# b) Bound for relative error\n",
    "$\\frac{||\\Delta x||_\\infty}{||x||_\\infty} \\le \\mathrm{cond_{\\infty}(E-\\omega S)}\\cdot \n",
    "\\frac{||\\delta \\omega S||_\\infty}{||E-\\omega S||_\\infty}$"
   ]
  },
  {
   "cell_type": "code",
   "execution_count": 36,
   "metadata": {},
   "outputs": [
    {
     "name": "stdout",
     "output_type": "stream",
     "text": [
      "Relative Error Bounds: 0.0052, 2.41, 0.0036\n"
     ]
    }
   ],
   "source": [
    "dw = 1/2*1e-3\n",
    "Bound = np.empty(shape=(3,))#to store boundary for all omegas\n",
    "for i in range(3):\n",
    "    Bound[i] = CondM[i]*inf_norm(dw*S)/inf_norm(M[i])\n",
    "print(\"Relative Error Bounds: {:.4f}, {:.2f}, {:.4f}\".format(*Bound))"
   ]
  },
  {
   "cell_type": "markdown",
   "metadata": {},
   "source": [
    "# c) Solving systems of linear equations with LU factorization"
   ]
  },
  {
   "cell_type": "markdown",
   "metadata": {},
   "source": [
    "## 1."
   ]
  },
  {
   "cell_type": "code",
   "execution_count": 9,
   "metadata": {},
   "outputs": [],
   "source": [
    "def lu_factorize(A):\n",
    "    \"\"\"Performs matrix decomposition A=LU where L is lower triangular and \n",
    "    U is upper triangular. Returns L and U.\"\"\"\n",
    "    n = A.shape[0]\n",
    "    U = np.zeros((n, n), dtype=np.double)\n",
    "    L = np.eye(n, dtype=np.double)\n",
    "    for k in range(n): #Loop over rows\n",
    "        U[k, k:] = A[k, k:] - L[k,:k]@(U[:k,k:]) #update upper triangular\n",
    "        L[(k+1):,k] = (A[(k+1):,k] - L[(k+1):,:]@(U[:,k]))/ U[k, k] #update lower triangular\n",
    "    return L, U"
   ]
  },
  {
   "cell_type": "markdown",
   "metadata": {},
   "source": [
    "## 2."
   ]
  },
  {
   "cell_type": "code",
   "execution_count": 37,
   "metadata": {},
   "outputs": [],
   "source": [
    "def forward_substitute(L,z):\n",
    "    \"\"\"Takes lower triangular matrix L and vector z and returns y, such that\n",
    "    Ly=z.\"\"\"\n",
    "    n = len(z)\n",
    "    y = np.zeros((n,))\n",
    "    y[0] = z[0]\n",
    "    for i in np.arange(1,n):\n",
    "        y[i] = z[i]-L[i,:]@y \n",
    "    return y"
   ]
  },
  {
   "cell_type": "markdown",
   "metadata": {},
   "source": [
    "## 3. "
   ]
  },
  {
   "cell_type": "code",
   "execution_count": 38,
   "metadata": {},
   "outputs": [],
   "source": [
    "def back_substitute(U,y):\n",
    "    \"\"\"\"Takes upper triangular matrix U and vector y and performs back substitution \n",
    "    returning x, such that Ux = y.\"\"\"\n",
    "    n = len(y)\n",
    "    x = np.zeros((n,))\n",
    "    for i in np.arange(n-1,-1,-1):\n",
    "        x[i] = (y[i]-U[i,:]@x)/U[i,i]\n",
    "    return x"
   ]
  },
  {
   "cell_type": "code",
   "execution_count": 39,
   "metadata": {},
   "outputs": [],
   "source": [
    "def solve_linear(A,b):\n",
    "    \"\"\"Returns solutions x to the linear system of equations \n",
    "    Ax=b, by using LU factorization followed by forward and backward substitution.\"\"\"\n",
    "    L,U = lu_factorize(A)\n",
    "    y = forward_substitute(L,b)\n",
    "    x = back_substitute(U,y)\n",
    "    return x"
   ]
  },
  {
   "cell_type": "markdown",
   "metadata": {},
   "source": [
    "## Test the algorithm "
   ]
  },
  {
   "cell_type": "code",
   "execution_count": 13,
   "metadata": {},
   "outputs": [
    {
     "name": "stdout",
     "output_type": "stream",
     "text": [
      "Computed solution: [-4.  7.  5.]\n",
      "x_custom-x_numpy = [-3.10862447e-15  4.44089210e-15  1.77635684e-15]\n"
     ]
    }
   ],
   "source": [
    "M_test0 = np.array([[2,1,1],[4,1,4],[-6,-5,3]])\n",
    "b_test0 = np.array([4,11,4])\n",
    "x_test0 = solve_linear(M_test0,b_test0)\n",
    "x_np = la.solve(M_test0,b_test0)\n",
    "print(\"Computed solution: {}\".format(x_test0)) #testing the algorithm against a numpy routine\n",
    "print('x_custom-x_numpy = {}'.format(x_test0-x_np)) "
   ]
  },
  {
   "cell_type": "markdown",
   "metadata": {},
   "source": [
    "## d. Calculating $\\alpha$ and perturbation of the solution "
   ]
  },
  {
   "cell_type": "code",
   "execution_count": 14,
   "metadata": {},
   "outputs": [
    {
     "name": "stdout",
     "output_type": "stream",
     "text": [
      "alpha = [ 1.63613813e+00  2.60923532e+03 -2.70689266e+00],\n",
      "alpha(omega+domega)=[ 1.64443120e+00 -4.18501828e+03 -2.69992681e+00],      \n",
      "alpha(omega-domeaga) = [  1.6278157  994.75299163  -2.71388011],\n",
      "dalpha=[0.01005322 0.66501051 0.00518144]\n"
     ]
    }
   ],
   "source": [
    "def solve_alpha(omega):\n",
    "    x = solve_linear(E-omega*S,z)\n",
    "    return (z.T)@x\n",
    "alpha = np.empty(shape=(3))\n",
    "dalpha = np.empty(shape=(3))\n",
    "alpha_plus = np.empty(shape=(3))\n",
    "alpha_minus = np.empty(shape=(3))\n",
    "for i in range(3):\n",
    "    alpha[i] = solve_alpha(omega[i])\n",
    "    alpha_plus[i] = solve_alpha(omega[i]+dw)\n",
    "    alpha_minus[i] = solve_alpha(omega[i]-dw)\n",
    "Delta_alpha = np.abs(alpha_plus-alpha_minus)\n",
    "dalpha = Delta_alpha/np.abs(alpha+Delta_alpha)\n",
    "print(\"alpha = {},\\nalpha(omega+domega)={},\\\n",
    "      \\nalpha(omega-domeaga) = {},\\ndalpha={}\".format(alpha,alpha_plus,alpha_minus,dalpha))"
   ]
  },
  {
   "cell_type": "markdown",
   "metadata": {},
   "source": [
    "## e. Computing table of $\\alpha(\\omega)$  "
   ]
  },
  {
   "cell_type": "code",
   "execution_count": 40,
   "metadata": {},
   "outputs": [
    {
     "name": "stdout",
     "output_type": "stream",
     "text": [
      "alpha(omega_sing) = 1.79e+09, cond(M(omega_sing)) = 1.05e+11\n"
     ]
    }
   ],
   "source": [
    "v_omega = np.linspace(0.7,1.5,1000)\n",
    "v_alpha = np.empty(shape=(v_omega.shape[0]))\n",
    "for i in range(len(v_omega)):\n",
    "    v_alpha[i] = solve_alpha(v_omega[i])\n",
    "omega_sing = 1.146307999\n",
    "alpha_sing = solve_alpha(omega_sing)\n",
    "condition_sing = condition(E-omega_sing*S)\n",
    "print(\"alpha(omega_sing) = {:3.2e}, cond(M(omega_sing)) = {:3.2e}\".format(alpha_sing, condition_sing))"
   ]
  },
  {
   "cell_type": "code",
   "execution_count": 41,
   "metadata": {},
   "outputs": [
    {
     "data": {
      "image/png": "[encoded data removed]",
      "text/plain": [
       "<Figure size 576x360 with 1 Axes>"
      ]
     },
     "metadata": {
      "needs_background": "light"
     },
     "output_type": "display_data"
    }
   ],
   "source": [
    "fig, ax = plt.subplots(figsize=(8,5))\n",
    "ax = sns.lineplot(v_omega, v_alpha, ax = ax)\n",
    "ax.set_xlabel(r'$\\omega$', fontsize = 20),ax.set_ylabel(r'$\\alpha$', fontsize =20)\n",
    "ax.tick_params(axis='both', which='major', labelsize=15)\n",
    "plt.show()\n",
    "fig.savefig(\"alpha_omega.pdf\", bbox_inches = 'tight')"
   ]
  },
  {
   "cell_type": "markdown",
   "metadata": {},
   "source": [
    "# 4 Week 2 Questions"
   ]
  },
  {
   "cell_type": "markdown",
   "metadata": {},
   "source": [
    "## f. Implementation of QR and LSQ "
   ]
  },
  {
   "cell_type": "code",
   "execution_count": 42,
   "metadata": {},
   "outputs": [],
   "source": [
    "I = np.eye(3)\n",
    "B = np.array([[-1,1,0],[-1,0,1],[0,-1,1]])\n",
    "A_test = np.block([[I],[B]])\n",
    "b_test = np.array([1237,1941,2417,711,1177,475])"
   ]
  },
  {
   "cell_type": "code",
   "execution_count": 45,
   "metadata": {},
   "outputs": [
    {
     "data": {
      "text/plain": [
       "(1.4331721629593791e-15, 1.0415700834157183e-15, 1.1375056652915413e-15)"
      ]
     },
     "execution_count": 45,
     "metadata": {},
     "output_type": "execute_result"
    }
   ],
   "source": [
    "def householder_QR(A):\n",
    "    \"\"\"Takes mxn matrix A with m>=n and performs QR decomposition returning Q and R.\"\"\"\n",
    "    m,n = A.shape\n",
    "    R = np.copy(A)\n",
    "    Q = np.eye(m)\n",
    "    for k in range(n):\n",
    "            v = np.copy(R[k:,k])\n",
    "            alpha = -np.copysign(1,v[0])*la.norm(v,2)\n",
    "            v[0] -= alpha\n",
    "            beta = la.norm(v,2)\n",
    "            if beta==0:\n",
    "                continue\n",
    "            v /= beta\n",
    "            R[k:,k:] = R[k:,k:]-2*v[:,na]*(v.T)@(R[k:,k:])\n",
    "            Q[k:,:] = Q[k:,:]-2*v[:,na]*(v.T)@(Q[k:,:])\n",
    "    return  Q.T,R\n",
    "#Check QR decomposition\n",
    "Q_test,R_test=householder_QR(A_test)\n",
    "I_test0 =Q_test@Q_test.T\n",
    "I_test1 = Q_test.T@Q_test\n",
    "devI0 = la.norm((I_test0-np.eye(I_test0.shape[0])),2)\n",
    "devI1 = la.norm((I_test1-np.eye(I_test1.shape[0])),2)\n",
    "dev = la.norm((A_test-Q_test@R_test),2)\n",
    "dev, devI0, devI1"
   ]
  },
  {
   "cell_type": "code",
   "execution_count": 49,
   "metadata": {},
   "outputs": [],
   "source": [
    "def householder_fast(A):\n",
    "    \"\"\"Fast version of QR decomposition, where Q is not computed. The Householder \n",
    "    vectors are stored in matrix V=[v1,v2,...,vn].\"\"\"\n",
    "    m,n = A.shape\n",
    "    R = np.copy(A)\n",
    "    V = np.zeros((m,n))\n",
    "    for k in range(n):\n",
    "            v = np.copy(R[k:,k])\n",
    "            alpha = -np.copysign(1,v[0])*la.norm(v,2)\n",
    "            v[0] -= alpha\n",
    "            beta = la.norm(v,2)\n",
    "            if beta==0:\n",
    "                continue\n",
    "            v /= beta\n",
    "            V[k:,k] = v \n",
    "            R[k:,k:] = R[k:,k:]-2*v[:,na]*(v.T)@(R[k:,k:])\n",
    "    return V, R[:n] #remove zero entries"
   ]
  },
  {
   "cell_type": "code",
   "execution_count": 46,
   "metadata": {},
   "outputs": [],
   "source": [
    "#Transoforming right hand side of Ax=b\n",
    "def apply_reflection(V,b):\n",
    "    \"\"\"Takes matrix V=[v1, v2, ..., vn] which contains the Householder vectors \n",
    "    and applies the reflection n times to vector b. Returns c1 which are the \n",
    "    first n rows of b.\"\"\"\n",
    "    _,n = V.shape\n",
    "    c = np.copy(b)\n",
    "    for k in range(n):\n",
    "        v = V[k:,k]\n",
    "        c[k:] =c[k:]- 2*v@c[k:]*v\n",
    "    return c[:n]"
   ]
  },
  {
   "cell_type": "code",
   "execution_count": 48,
   "metadata": {},
   "outputs": [
    {
     "name": "stdout",
     "output_type": "stream",
     "text": [
      "[1236.1810056  1942.5853051  2415.47676453]\n"
     ]
    }
   ],
   "source": [
    "def lsq(A,b):\n",
    "    \"\"\"Returns least squares solution to the system Ax=b using Householder QR decomposition.\"\"\"\n",
    "    _,n = A.shape\n",
    "    V, R = householder_fast(A)\n",
    "    c1 = apply_reflection(V,b)\n",
    "    x = back_substitute(R,c1)\n",
    "    return x\n",
    "\n",
    "x_test = lsq(A_test, b_test)\n",
    "print(x_test)"
   ]
  },
  {
   "cell_type": "code",
   "execution_count": 50,
   "metadata": {},
   "outputs": [],
   "source": [
    "#Choose boundaries for LSQ\n",
    "bound = [0.7, 1.12]\n",
    "omega_mask = (v_omega>bound[0])&(v_omega<bound[1])\n",
    "v_omega_new = v_omega[omega_mask]\n",
    "v_alpha_new = v_alpha[omega_mask]"
   ]
  },
  {
   "cell_type": "code",
   "execution_count": 23,
   "metadata": {},
   "outputs": [],
   "source": [
    "def compute_coefficients_P(v_alpha,v_omega,n):\n",
    "    \"\"\"Computes the coefficients for the polynomial sum(a_i*omega**(2*i)).\"\"\"\n",
    "    exponents = np.arange(0,n*2+2,2)\n",
    "    Omega = v_omega[:,na]**exponents\n",
    "    return lsq(Omega, v_alpha)\n",
    "\n",
    "def Poly(v_omega,a_coeff,n):\n",
    "    \"\"\"Computes polynomial sum(a[i]*omega**(2*i))\"\"\"\n",
    "    exponent = np.arange(0,n*2+2,2)\n",
    "    Omega = v_omega[:,na]**exponent\n",
    "    return Omega@a_coeff"
   ]
  },
  {
   "cell_type": "code",
   "execution_count": 51,
   "metadata": {},
   "outputs": [],
   "source": [
    "a_coeff_4 = compute_coefficients_P(v_alpha_new,v_omega_new, 10)\n",
    "P_alpha_4 = Poly(v_omega_new, a_coeff_4, 10)\n",
    "dalpha4 = (P_alpha_4-v_alpha_new)/v_alpha_new\n",
    "a_coeff_6 = compute_coefficients_P(v_alpha_new,v_omega_new, 6)\n",
    "P_alpha_6 = Poly(v_omega_new,a_coeff_6, 6)\n",
    "dalpha6 = (P_alpha_6-v_alpha_new)/v_alpha_new"
   ]
  },
  {
   "cell_type": "code",
   "execution_count": 52,
   "metadata": {},
   "outputs": [
    {
     "data": {
      "image/png": "[encoded data removed]",
      "text/plain": [
       "<Figure size 576x360 with 1 Axes>"
      ]
     },
     "metadata": {
      "needs_background": "light"
     },
     "output_type": "display_data"
    }
   ],
   "source": [
    "fig, ax = plt.subplots(figsize=(8,5))\n",
    "ax = sns.lineplot(v_omega_new, P_alpha_4,label = 'n = 4')\n",
    "ax = sns.lineplot(v_omega_new, P_alpha_6, label = 'n = 6')\n",
    "ax = sns.lineplot(v_omega_new, v_alpha_new, label = 'solve_alpha')\n",
    "ax.set_xlabel(r'$\\omega$', fontsize = 20),ax.set_ylabel(r'$\\alpha$', fontsize =20)\n",
    "ax.tick_params(axis='both', which='major', labelsize=15)\n",
    "ax.legend(fontsize = 15)\n",
    "ax.text(0.65,34,'a)',fontsize= 20)\n",
    "plt.show()\n",
    "fig.savefig(\"Polynomial.pdf\", bbox_inches = 'tight')"
   ]
  },
  {
   "cell_type": "code",
   "execution_count": 26,
   "metadata": {},
   "outputs": [
    {
     "data": {
      "image/png": "[encoded data removed]",
      "text/plain": [
       "<Figure size 576x360 with 1 Axes>"
      ]
     },
     "metadata": {
      "needs_background": "light"
     },
     "output_type": "display_data"
    }
   ],
   "source": [
    "fig, ax = plt.subplots(figsize=(8,5))\n",
    "ax = sns.lineplot(v_omega_new, dalpha4,  label = 'n = 4')\n",
    "ax = sns.lineplot(v_omega_new, dalpha6, label = 'n = 6')\n",
    "ax.set_yscale('log')\n",
    "ax.tick_params(axis='both', which='major', labelsize=15)\n",
    "ax.legend(fontsize = 15)\n",
    "ax.set_xlabel(r'$\\omega$', fontsize = 20),ax.set_ylabel(r'$\\Delta \\alpha$', fontsize =20)\n",
    "ax.text(0.65,30,'b)',fontsize= 20)\n",
    "plt.show()\n",
    "fig.savefig(\"Polynomial_rel_err.pdf\", bbox_inches = 'tight')"
   ]
  },
  {
   "cell_type": "code",
   "execution_count": 54,
   "metadata": {},
   "outputs": [],
   "source": [
    "def compute_coefficients_Q(v_alpha,omega,n):\n",
    "    \"\"\"Determine coefficients of the rational approximating function.\"\"\"\n",
    "    exponents = np.arange(0,n+1)\n",
    "    Omega = omega[:,na]**exponents #Create matrix containing powers of omega\n",
    "    Q = np.concatenate((Omega, -v_alpha[:,na]*Omega[:,1:]),axis = 1) \n",
    "    return lsq(Q, v_alpha)\n",
    "\n",
    "def rat_func(v_omega, c_coeff, n):\n",
    "    \"\"\"Computes a rational function Q(omega) = sum(a)\"\"\"\n",
    "    exponents = np.arange(0,n+1)\n",
    "    Omega = v_omega[:,na]**exponents \n",
    "    Q_num = Omega@c_coeff[:n+1] #compute the numerator\n",
    "    Q_den = 1+Omega[:,1:]@c_coeff[n+1:] #compute denominator\n",
    "    return Q_num/Q_den"
   ]
  },
  {
   "cell_type": "code",
   "execution_count": 29,
   "metadata": {},
   "outputs": [],
   "source": [
    "c_coeff_2 = compute_coefficients_Q(v_alpha,v_omega,2)\n",
    "Q_alpha_2 = rat_func(v_omega, c_coeff_2, 2)\n",
    "Q_alpha_4 = rat_func(v_omega, compute_coefficients_Q(v_alpha,v_omega,4),4)\n",
    "Q_2_error = (Q_alpha_2-v_alpha)/v_alpha\n",
    "Q_4_error = (Q_alpha_4-v_alpha)/v_alpha"
   ]
  },
  {
   "cell_type": "code",
   "execution_count": 55,
   "metadata": {},
   "outputs": [
    {
     "data": {
      "image/png": "[encoded data removed]",
      "text/plain": [
       "<Figure size 576x360 with 1 Axes>"
      ]
     },
     "metadata": {
      "needs_background": "light"
     },
     "output_type": "display_data"
    }
   ],
   "source": [
    "fig, ax = plt.subplots(figsize=(8,5))\n",
    "ax = sns.lineplot(v_omega, v_alpha,label = 'computed')\n",
    "ax = sns.lineplot(v_omega, Q_alpha_2, label = r'$\\mathrm{fit}\\ Q(\\omega)\\,,\\ n = 2$')\n",
    "ax.set_xlabel(r'$\\omega$', fontsize = 20),ax.set_ylabel(r'$\\alpha$', fontsize =20)\n",
    "ax.tick_params(axis='both', which='major', labelsize=15)\n",
    "ax.legend(fontsize = 15)\n",
    "ax.text(0.6,3460,'a)',fontsize= 20)\n",
    "plt.show()\n",
    "fig.savefig(\"rational_func.pdf\", bbox_inches = 'tight')"
   ]
  },
  {
   "cell_type": "code",
   "execution_count": 56,
   "metadata": {},
   "outputs": [
    {
     "data": {
      "image/png": "[encoded data removed]",
      "text/plain": [
       "<Figure size 576x360 with 1 Axes>"
      ]
     },
     "metadata": {
      "needs_background": "light"
     },
     "output_type": "display_data"
    }
   ],
   "source": [
    "fig, ax = plt.subplots(figsize=(8,5))\n",
    "ax = sns.lineplot(v_omega, Q_2_error,  label = 'rel. error n = 2')\n",
    "ax = sns.lineplot(v_omega, Q_4_error, label = 'rel.error n = 4')\n",
    "ax.set_yscale('log')\n",
    "ax.set_xlabel(r'$\\omega$', fontsize = 20),ax.set_ylabel(r'$\\Delta \\alpha$', fontsize =20)\n",
    "ax.tick_params(axis='both', which='major', labelsize=15)\n",
    "ax.legend(fontsize =15)\n",
    "ax.text(0.6,100,'b)',fontsize= 20)\n",
    "plt.show()\n",
    "fig.savefig(\"rational_func_err.pdf\", bbox_inches = 'tight')"
   ]
  }
 ],
 "metadata": {
  "kernelspec": {
   "display_name": "Python 3",
   "language": "python",
   "name": "python3"
  },
  "language_info": {
   "codemirror_mode": {
    "name": "ipython",
    "version": 3
   },
   "file_extension": ".py",
   "mimetype": "text/x-python",
   "name": "python",
   "nbconvert_exporter": "python",
   "pygments_lexer": "ipython3",
   "version": "3.6.10"
  }
 },
 "nbformat": 4,
 "nbformat_minor": 4
}
