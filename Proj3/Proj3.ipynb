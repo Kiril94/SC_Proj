{
 "cells": [
  {
   "cell_type": "code",
   "execution_count": 2,
   "metadata": {},
   "outputs": [],
   "source": [
    "import numpy as np\n",
    "from numpy import newaxis as NA\n",
    "import numpy.linalg as la\n",
    "import matplotlib.pyplot as plt"
   ]
  },
  {
   "cell_type": "markdown",
   "metadata": {},
   "source": [
    "# Solving nonlinear eq. in 1D"
   ]
  },
  {
   "cell_type": "markdown",
   "metadata": {},
   "source": [
    "# a. Lennard Jones Energy "
   ]
  },
  {
   "cell_type": "code",
   "execution_count": 3,
   "metadata": {},
   "outputs": [],
   "source": [
    "sigma, epsilon = 3.401, 0.997"
   ]
  },
  {
   "cell_type": "code",
   "execution_count": 242,
   "metadata": {},
   "outputs": [],
   "source": [
    "def distance(points):\n",
    "    \"\"\"Calculates Euclidean distanve between N points. Points is an Nx3 array.\"\"\"\n",
    "    displacement = points[:,NA]-points[NA,:]\n",
    "    return np.sqrt( np.sum(displacement*displacement , axis=-1) )"
   ]
  },
  {
   "cell_type": "code",
   "execution_count": 243,
   "metadata": {},
   "outputs": [],
   "source": [
    "def div_0(a,b):\n",
    "    \"\"\"Divides a by b. If b==0 returns 0.\"\"\"\n",
    "    return np.divide(a, b, out=np.zeros_like(b), where=b!=0)"
   ]
  },
  {
   "cell_type": "code",
   "execution_count": 244,
   "metadata": {},
   "outputs": [],
   "source": [
    "def LJ(sigma, epsilon):\n",
    "    \"\"\"Creates the function V which computes the LJ potential with specified\\\n",
    "    sigma and epsilon.\"\"\"\n",
    "    def V(points):\n",
    "        \"\"\"Returns the Energy of N particle system given coordinates (Nx3) in the\\\n",
    "        Lennard Jones potential.\"\"\"\n",
    "        r = distance(points)\n",
    "        N = len(r)\n",
    "        #take only upper triangular part of the matrix since dist(ij)=dist(ji)\n",
    "        r = np.triu(r)\n",
    "        return np.sum(4*epsilon*((div_0(sigma,r))**12-(div_0(sigma,r))**6))\n",
    "    return V"
   ]
  },
  {
   "cell_type": "code",
   "execution_count": 41,
   "metadata": {},
   "outputs": [],
   "source": [
    "N = 200\n",
    "x = np.linspace(3,11,N)\n",
    "x0, x1, x2, x3 = np.zeros((N,1,3)),np.zeros((N,1,3)),np.zeros((N,1,3)),np.zeros((N,1,3))\n",
    "x0[:,0,0] = x\n",
    "x2[:,0,0] = 17\n",
    "x3[:,0,[0,1]] = [7,3.2]\n",
    "points2 = np.concatenate((x0,x1), axis = 1)\n",
    "points4 = np.concatenate((x0,x1,x2,x3), axis = 1)\n",
    "E2, E4 = np.empty(shape = N), np.empty(shape = N)\n",
    "V = LJ(sigma, epsilon)\n",
    "for i in range(N): #Computing LJ energy for N coordinates\n",
    "    E2[i] = V(points2[i])\n",
    "    E4[i] = V(points4[i])"
   ]
  },
  {
   "cell_type": "code",
   "execution_count": 42,
   "metadata": {},
   "outputs": [
    {
     "data": {
      "image/png": "[encoded data removed]",
      "text/plain": [
       "<Figure size 648x360 with 1 Axes>"
      ]
     },
     "metadata": {
      "needs_background": "light"
     },
     "output_type": "display_data"
    }
   ],
   "source": [
    "fig, ax = plt.subplots(figsize = (9,5))\n",
    "ax.plot(x, E2, label = '2 atoms')\n",
    "ax.plot(x,E4, label = '4 atoms')\n",
    "ax.set_ylabel('E [kJ/mol]', fontsize = 15)\n",
    "ax.set_xlabel(r'distance [Angstrom]$', fontsize = 15)\n",
    "ax.set_title(r'Lennard Jones Potential', fontsize = 15)\n",
    "plt.show()"
   ]
  },
  {
   "cell_type": "markdown",
   "metadata": {},
   "source": [
    "# b. Bisection Method"
   ]
  },
  {
   "cell_type": "code",
   "execution_count": 107,
   "metadata": {},
   "outputs": [],
   "source": [
    "def bis(f,a,b,tol):\n",
    "    \"\"\"Bisection method for finding roots of a funciton f given an interval [a,b]\\\n",
    "    where sign(f(a))!=sign(f(b)). The function returns the root within the given tolerance \n",
    "    and the number of function calls.\"\"\"\n",
    "    n_calls = int(np.log2((b-a)/tol))\n",
    "    x = (a+b)/2\n",
    "    fb = f(b)\n",
    "    fa = f(a)\n",
    "    for i in range(n_calls):\n",
    "        fx = f(x)\n",
    "        if np.sign(fx)==np.sign(fa):\n",
    "            a = x\n",
    "        else:\n",
    "            b = x\n",
    "        x = (a+b)/2\n",
    "    return x, n_calls"
   ]
  },
  {
   "cell_type": "code",
   "execution_count": 240,
   "metadata": {},
   "outputs": [
    {
     "data": {
      "text/plain": [
       "(3.4010000000000105, 45, -7.438316629304609e-14)"
      ]
     },
     "execution_count": 240,
     "metadata": {},
     "output_type": "execute_result"
    }
   ],
   "source": [
    "def Vx(x):\n",
    "    \"\"\"Helper function to call V with a range of different x in the 1d case.\"\"\"\n",
    "    p0 = np.zeros((1,3))\n",
    "    p1 = np.reshape(np.array([0,0,x]), (1,3))\n",
    "    return V(np.concatenate((p0,p1),axis = 0))\n",
    "\n",
    "x_root,n = bis(Vx,2,6,1e-13)\n",
    "x_root, n, Vx(x_root)"
   ]
  },
  {
   "cell_type": "markdown",
   "metadata": {},
   "source": [
    "45 function calls are necessary "
   ]
  },
  {
   "cell_type": "markdown",
   "metadata": {},
   "source": [
    "# c. Newton Raphson method"
   ]
  },
  {
   "cell_type": "code",
   "execution_count": 99,
   "metadata": {},
   "outputs": [],
   "source": [
    "def DV(r,sigma = sigma, epsilon = epsilon):\n",
    "    \"\"\"Derivative of the LJ potential.\"\"\"\n",
    "    return 4*epsilon*(6*sigma**6/r**7 - 12*sigma**12/r**13)"
   ]
  },
  {
   "cell_type": "code",
   "execution_count": 239,
   "metadata": {},
   "outputs": [
    {
     "data": {
      "text/plain": [
       "(3.400999999999998, 24)"
      ]
     },
     "execution_count": 239,
     "metadata": {},
     "output_type": "execute_result"
    }
   ],
   "source": [
    "def newton_root(f, df, x0, tolerance, max_iterations):\n",
    "    \"\"\"Newton-Rhapson method to find root of a function f. Returns root within tolerance\\\n",
    "    and number of function calls.\"\"\"\n",
    "    f0 = f(x0)\n",
    "    n_calls = 0\n",
    "    while (abs(f0)>tolerance) and (n_calls<max_iterations):\n",
    "        n_calls+=1\n",
    "        x0 = x0-f0/df(x0)\n",
    "        f0 = f(x0)\n",
    "    return x0, 2*n_calls\n",
    "\n",
    "newton_root(Vx, DV, 2, 1e-12,100)"
   ]
  },
  {
   "cell_type": "markdown",
   "metadata": {},
   "source": [
    "24 function calls are needed "
   ]
  },
  {
   "cell_type": "markdown",
   "metadata": {},
   "source": [
    "# d. Combination of NR and bisection method "
   ]
  },
  {
   "cell_type": "code",
   "execution_count": 238,
   "metadata": {},
   "outputs": [
    {
     "data": {
      "text/plain": [
       "(3.400999999999998, 24)"
      ]
     },
     "execution_count": 238,
     "metadata": {},
     "output_type": "execute_result"
    }
   ],
   "source": [
    "def NR_bis(f, df, a, b, x0, tolerance):\n",
    "    \"\"\"Combination of Newton Rhapson and bisection which guarantees convergence.\"\"\"\n",
    "    f0 = f(x0)\n",
    "    n_calls = 0\n",
    "    while abs(f0)>tolerance:\n",
    "        n_calls += 1\n",
    "        xn = x0-f0/df(x0)\n",
    "        if ((xn<a) or (xn>b)):\n",
    "            n_calls+=2\n",
    "            fa = f(a)\n",
    "            x0 = (a+b)/2\n",
    "            f0 = f(x0)\n",
    "            if np.sign(f0)==np.sign(fa):\n",
    "                a = x0\n",
    "            else:\n",
    "                b = x0\n",
    "        else:\n",
    "            x0 = xn\n",
    "            n_calls += 1\n",
    "            f0 = f(x0)\n",
    "    return x0, n_calls\n",
    "\n",
    "NR_bis(Vx, DV, 2, 4, 2, 1e-13)"
   ]
  },
  {
   "cell_type": "markdown",
   "metadata": {},
   "source": [
    "24 function calls were needed "
   ]
  }
 ],
 "metadata": {
  "kernelspec": {
   "display_name": "Python 3",
   "language": "python",
   "name": "python3"
  },
  "language_info": {
   "codemirror_mode": {
    "name": "ipython",
    "version": 3
   },
   "file_extension": ".py",
   "mimetype": "text/x-python",
   "name": "python",
   "nbconvert_exporter": "python",
   "pygments_lexer": "ipython3",
   "version": "3.6.10"
  }
 },
 "nbformat": 4,
 "nbformat_minor": 4
}
